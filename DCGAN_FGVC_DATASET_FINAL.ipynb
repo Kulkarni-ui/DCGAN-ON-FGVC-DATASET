{
  "nbformat": 4,
  "nbformat_minor": 0,
  "metadata": {
    "colab": {
      "provenance": [],
      "gpuType": "T4"
    },
    "kernelspec": {
      "name": "python3",
      "display_name": "Python 3"
    },
    "language_info": {
      "name": "python"
    },
    "accelerator": "GPU"
  },
  "cells": [
    {
      "cell_type": "markdown",
      "source": [
        "**Name : Atharv Harshal Kulkarni**\n",
        "\n",
        "**Prn: 22070126022**\n",
        "\n",
        "**Branch : Aiml A1**"
      ],
      "metadata": {
        "id": "V1Sp13Cq3KFj"
      }
    },
    {
      "cell_type": "markdown",
      "source": [
        "**The dataset contains 10,000 images of aircraft, The data is split into 3334 training images, 3333 validation and 3333 testing images Aircraft models are organized in a four-levels hierarchy. The four levels, from finer to coarser, are:**\n",
        "\n",
        "**Model, e.g. Boeing 737-76J. Since certain models are nearly visually indistinguishable, this level is not used in the evaluation. Variant, e.g. Boeing 737-700. A variant collapses all the models that are visually indistinguishable into one class. The dataset comprises 100 different variants.**\n",
        "\n",
        "**Family, e.g. Boeing 737. The dataset comprises 70 different families. Manufacturer, e.g. Boeing. The dataset comprises 41 different manufacturers**"
      ],
      "metadata": {
        "id": "dKsxNa8o3Q3y"
      }
    },
    {
      "cell_type": "markdown",
      "source": [
        "#DOWNLOADING THE DATASET"
      ],
      "metadata": {
        "id": "W33sNlRt3Yes"
      }
    },
    {
      "cell_type": "code",
      "execution_count": null,
      "metadata": {
        "colab": {
          "base_uri": "https://localhost:8080/"
        },
        "id": "0EST4d1S4ypE",
        "outputId": "5b3ade5d-ab28-4698-cd11-c52ed6bfa0a8"
      },
      "outputs": [
        {
          "output_type": "stream",
          "name": "stdout",
          "text": [
            "Downloading from https://www.kaggle.com/api/v1/datasets/download/seryouxblaster764/fgvc-aircraft?dataset_version_number=2...\n"
          ]
        },
        {
          "output_type": "stream",
          "name": "stderr",
          "text": [
            "100%|██████████| 2.57G/2.57G [01:08<00:00, 39.9MB/s]"
          ]
        },
        {
          "output_type": "stream",
          "name": "stdout",
          "text": [
            "Extracting files...\n"
          ]
        },
        {
          "output_type": "stream",
          "name": "stderr",
          "text": [
            "\n"
          ]
        },
        {
          "output_type": "stream",
          "name": "stdout",
          "text": [
            "Path to dataset files: /root/.cache/kagglehub/datasets/seryouxblaster764/fgvc-aircraft/versions/2\n"
          ]
        }
      ],
      "source": [
        "import kagglehub\n",
        "\n",
        "# Download latest version\n",
        "path = kagglehub.dataset_download(\"seryouxblaster764/fgvc-aircraft\")\n",
        "\n",
        "print(\"Path to dataset files:\", path)"
      ]
    },
    {
      "cell_type": "markdown",
      "source": [
        "#IMPORTIMG ALL THE NECESSARIES LIBRARIES"
      ],
      "metadata": {
        "id": "sE-jhbfx3eaF"
      }
    },
    {
      "cell_type": "code",
      "source": [
        "import torch\n",
        "import torch.nn as nn\n",
        "import torch.optim as optim\n",
        "import torchvision.transforms as transforms\n",
        "import torchvision.datasets as datasets\n",
        "import torchvision.utils as vutils\n",
        "import numpy as np\n",
        "import matplotlib.pyplot as plt\n",
        "import os\n",
        "from torch.utils.data import DataLoader"
      ],
      "metadata": {
        "id": "_4djYy7R5Mt9"
      },
      "execution_count": null,
      "outputs": []
    },
    {
      "cell_type": "code",
      "source": [
        "# Set device\n",
        "device = torch.device(\"cuda\" if torch.cuda.is_available() else \"cpu\")"
      ],
      "metadata": {
        "id": "Ly7-kNec5n9l"
      },
      "execution_count": null,
      "outputs": []
    },
    {
      "cell_type": "markdown",
      "source": [
        "#SETTING THE HYPERPARAMETERS"
      ],
      "metadata": {
        "id": "DEWWXkbi3s0e"
      }
    },
    {
      "cell_type": "code",
      "source": [
        "image_size = 64\n",
        "batch_size = 128\n",
        "latent_dim = 100\n",
        "lr = 0.0002\n",
        "beta1 = 0.5\n",
        "epochs = 25"
      ],
      "metadata": {
        "id": "opBwTbHC5uUb"
      },
      "execution_count": null,
      "outputs": []
    },
    {
      "cell_type": "code",
      "source": [
        "transform = transforms.Compose([\n",
        "    transforms.Resize((32, 32)),\n",
        "    transforms.ToTensor(),\n",
        "    transforms.Normalize((0.5, 0.5, 0.5), (0.5, 0.5, 0.5))\n",
        "])"
      ],
      "metadata": {
        "id": "PNE2w7LR5xUW"
      },
      "execution_count": null,
      "outputs": []
    },
    {
      "cell_type": "markdown",
      "source": [
        "#LOADING THE DATASET"
      ],
      "metadata": {
        "id": "hjR1dpIB30qA"
      }
    },
    {
      "cell_type": "code",
      "source": [
        "dataset_path =\"/root/.cache/kagglehub/datasets/seryouxblaster764/fgvc-aircraft/versions/2\"\n",
        "\n",
        "dataset = datasets.ImageFolder(root=dataset_path, transform=transform)\n",
        "dataloader = DataLoader(dataset, batch_size=batch_size, shuffle=True)"
      ],
      "metadata": {
        "id": "oBb1lH4g55j1"
      },
      "execution_count": null,
      "outputs": []
    },
    {
      "cell_type": "markdown",
      "source": [
        "#TRAINING THE GENERATOR"
      ],
      "metadata": {
        "id": "Al7hBkd_3_x3"
      }
    },
    {
      "cell_type": "code",
      "source": [
        "class Generator(nn.Module):\n",
        "    def __init__(self, latent_dim):\n",
        "        super(Generator, self).__init__()\n",
        "        self.main = nn.Sequential(\n",
        "            # Input: latent vector Z of shape (N, latent_dim, 1, 1)\n",
        "            nn.ConvTranspose2d(latent_dim, 256, 4, 1, 0, bias=False),  # (N,256,4,4)\n",
        "            nn.ReLU(True),\n",
        "            nn.ConvTranspose2d(256, 128, 4, 2, 1, bias=False),           # (N,128,8,8)\n",
        "            nn.ReLU(True),\n",
        "            nn.ConvTranspose2d(128, 64, 4, 2, 1, bias=False),            # (N,64,16,16)\n",
        "            nn.ReLU(True),\n",
        "            nn.ConvTranspose2d(64, 3, 4, 2, 1, bias=False),              # (N,3,32,32)\n",
        "            nn.Tanh()\n",
        "        )\n",
        "\n",
        "    def forward(self, x):\n",
        "        return self.main(x)"
      ],
      "metadata": {
        "id": "5TKf7Mpf6zGC"
      },
      "execution_count": null,
      "outputs": []
    },
    {
      "cell_type": "markdown",
      "source": [
        "#TRAINING THE DISCRIMINATOR"
      ],
      "metadata": {
        "id": "MAC83mni4Ckf"
      }
    },
    {
      "cell_type": "code",
      "source": [
        "class Discriminator(nn.Module):\n",
        "    def __init__(self):\n",
        "        super(Discriminator, self).__init__()\n",
        "        self.main = nn.Sequential(\n",
        "            # Input: image of shape (N,3,32,32)\n",
        "            nn.Conv2d(3, 64, 4, 2, 1, bias=False),   # (N,64,16,16)\n",
        "            nn.LeakyReLU(0.2, inplace=True),\n",
        "            nn.Conv2d(64, 128, 4, 2, 1, bias=False),  # (N,128,8,8)\n",
        "            nn.LeakyReLU(0.2, inplace=True),\n",
        "            nn.Conv2d(128, 256, 4, 2, 1, bias=False), # (N,256,4,4)\n",
        "            nn.LeakyReLU(0.2, inplace=True),\n",
        "            nn.Conv2d(256, 1, 4, 1, 0, bias=False),   # (N,1,1,1)\n",
        "            nn.Sigmoid()\n",
        "        )\n",
        "\n",
        "    def forward(self, x):\n",
        "        return self.main(x).view(x.size(0), 1)"
      ],
      "metadata": {
        "id": "6tYxbv_u7mBs"
      },
      "execution_count": null,
      "outputs": []
    },
    {
      "cell_type": "markdown",
      "source": [
        "#INITIALIZING THE MODEL"
      ],
      "metadata": {
        "id": "Wj6P0ej04G3C"
      }
    },
    {
      "cell_type": "code",
      "source": [
        "generator = Generator(latent_dim).to(device)\n",
        "discriminator = Discriminator().to(device)"
      ],
      "metadata": {
        "id": "Bdk0HQ1x8yz0"
      },
      "execution_count": null,
      "outputs": []
    },
    {
      "cell_type": "markdown",
      "source": [
        "#LOSS AND OPTIMIZERS"
      ],
      "metadata": {
        "id": "_kuxhIOj4KXl"
      }
    },
    {
      "cell_type": "code",
      "source": [
        "criterion = nn.BCELoss()\n",
        "optimizerG = optim.Adam(generator.parameters(), lr=lr, betas=(beta1, 0.999))\n",
        "optimizerD = optim.Adam(discriminator.parameters(), lr=lr, betas=(beta1, 0.999))"
      ],
      "metadata": {
        "id": "khYFt0fw819q"
      },
      "execution_count": null,
      "outputs": []
    },
    {
      "cell_type": "markdown",
      "source": [
        "#TRAINING THE LOOP AND FINAL OUTPUT"
      ],
      "metadata": {
        "id": "_ReA9sjr4Ncl"
      }
    },
    {
      "cell_type": "code",
      "source": [
        "for epoch in range(epochs):\n",
        "    for i, (real_images, _) in enumerate(dataloader):\n",
        "        real_images = real_images.to(device)\n",
        "        batch_size = real_images.size(0)\n",
        "\n",
        "        # Train Discriminator\n",
        "        noise = torch.randn(batch_size, latent_dim, 1, 1, device=device)\n",
        "        fake_images = generator(noise)\n",
        "        real_labels = torch.ones(batch_size, 1, device=device)\n",
        "        fake_labels = torch.zeros(batch_size, 1, device=device)\n",
        "\n",
        "        optimizerD.zero_grad()\n",
        "        real_loss = criterion(discriminator(real_images), real_labels)\n",
        "        fake_loss = criterion(discriminator(fake_images.detach()), fake_labels)\n",
        "        d_loss = real_loss + fake_loss\n",
        "        d_loss.backward()\n",
        "        optimizerD.step()\n",
        "\n",
        "        # Train Generator\n",
        "        optimizerG.zero_grad()\n",
        "        g_loss = criterion(discriminator(fake_images), real_labels)\n",
        "        g_loss.backward()\n",
        "        optimizerG.step()\n",
        "\n",
        "    print(f\"Epoch [{epoch+1}/{epochs}] | D Loss: {d_loss.item():.4f} | G Loss: {g_loss.item():.4f}\")\n",
        "\n",
        "    # Display real vs generated images every 25 epochs\n",
        "    if (epoch+1) % 25 == 0:\n",
        "        with torch.no_grad():\n",
        "            sample_noise = torch.randn(16, latent_dim, 1, 1, device=device)\n",
        "            generated_images = generator(sample_noise).cpu()\n",
        "\n",
        "        fig, axes = plt.subplots(2, 8, figsize=(12, 4))\n",
        "        for j in range(8):\n",
        "            axes[0, j].imshow((real_images[j].cpu().permute(1, 2, 0) * 0.5) + 0.5)\n",
        "            axes[0, j].axis(\"off\")\n",
        "            axes[1, j].imshow((generated_images[j].cpu().permute(1, 2, 0) * 0.5) + 0.5)\n",
        "            axes[1, j].axis(\"off\")\n",
        "        plt.show()\n",
        "\n",
        "print(\"Training Complete!\")"
      ],
      "metadata": {
        "colab": {
          "base_uri": "https://localhost:8080/",
          "height": 754
        },
        "id": "vLGptLXE9Pra",
        "outputId": "610233f6-b71e-47f8-ab2b-a47e67868ddb"
      },
      "execution_count": null,
      "outputs": [
        {
          "output_type": "stream",
          "name": "stdout",
          "text": [
            "Epoch [1/25] | D Loss: 1.0808 | G Loss: 0.7496\n",
            "Epoch [2/25] | D Loss: 1.0918 | G Loss: 0.7111\n",
            "Epoch [3/25] | D Loss: 1.1000 | G Loss: 0.7991\n",
            "Epoch [4/25] | D Loss: 1.1058 | G Loss: 0.6684\n",
            "Epoch [5/25] | D Loss: 1.0184 | G Loss: 0.7321\n",
            "Epoch [6/25] | D Loss: 1.1690 | G Loss: 0.6774\n",
            "Epoch [7/25] | D Loss: 1.0113 | G Loss: 0.7619\n",
            "Epoch [8/25] | D Loss: 1.0026 | G Loss: 0.7116\n",
            "Epoch [9/25] | D Loss: 1.1911 | G Loss: 0.6490\n",
            "Epoch [10/25] | D Loss: 1.0066 | G Loss: 0.7974\n",
            "Epoch [11/25] | D Loss: 1.0356 | G Loss: 0.8581\n",
            "Epoch [12/25] | D Loss: 1.1109 | G Loss: 0.7039\n",
            "Epoch [13/25] | D Loss: 1.2577 | G Loss: 0.8464\n",
            "Epoch [14/25] | D Loss: 1.1207 | G Loss: 0.6184\n",
            "Epoch [15/25] | D Loss: 1.0924 | G Loss: 0.8455\n",
            "Epoch [16/25] | D Loss: 1.1708 | G Loss: 0.6856\n",
            "Epoch [17/25] | D Loss: 1.2409 | G Loss: 0.6054\n",
            "Epoch [18/25] | D Loss: 1.2049 | G Loss: 0.5937\n",
            "Epoch [19/25] | D Loss: 1.2303 | G Loss: 0.6044\n",
            "Epoch [20/25] | D Loss: 1.0332 | G Loss: 0.7126\n",
            "Epoch [21/25] | D Loss: 1.2215 | G Loss: 0.5748\n",
            "Epoch [22/25] | D Loss: 1.0542 | G Loss: 0.7004\n",
            "Epoch [23/25] | D Loss: 1.1826 | G Loss: 0.7566\n",
            "Epoch [24/25] | D Loss: 1.1264 | G Loss: 0.6823\n",
            "Epoch [25/25] | D Loss: 1.1371 | G Loss: 0.5671\n"
          ]
        },
        {
          "output_type": "display_data",
          "data": {
            "text/plain": [
              "<Figure size 1200x400 with 16 Axes>"
            ],
            "image/png": "[encoded data removed]"
          },
          "metadata": {}
        },
        {
          "output_type": "stream",
          "name": "stdout",
          "text": [
            "Training Complete!\n"
          ]
        }
      ]
    },
    {
      "cell_type": "code",
      "source": [],
      "metadata": {
        "id": "dcjsC9gjDGa0"
      },
      "execution_count": null,
      "outputs": []
    }
  ]
}